{
 "cells": [
  {
   "cell_type": "code",
   "execution_count": 1,
   "id": "5638692c-c709-4d60-af59-2222955bed9f",
   "metadata": {},
   "outputs": [],
   "source": [
    "import polars as pl\n",
    "import plotly.express as px\n",
    "import os\n",
    "import glob"
   ]
  },
  {
   "cell_type": "code",
   "execution_count": 2,
   "id": "040c2810-9140-40d0-8c47-8391d9d6b31f",
   "metadata": {},
   "outputs": [],
   "source": [
    "def airbnb_per_host(file,ptype,neighbourhood):\n",
    "    df=pl.read_csv(file)\n",
    "    if neighbourhood:\n",
    "        df=df.filter((pl.col('property_type')==ptype)&(pl.col('neighbourhood_group_cleansed')==neighbourhood)&\n",
    "                    (pl.col('has_availability')==\"t\"))\n",
    "    else:\n",
    "        df=df.filter((pl.col('property_type')==ptype)&(pl.col('has_availability')==\"t\"))\n",
    "\n",
    "    host_count=df['host_id'].value_counts().sort('count')\n",
    "    breaks=[1,2,5,10,100] \n",
    "    labels=['1','2','+2','+5','+10','+100']\n",
    "    host_count = host_count.with_columns(\n",
    "    pl.col(\"count\").cut(breaks=breaks, labels=labels, left_closed=False).alias(\"binned_counts\"))\n",
    "\n",
    "    df=df.join(host_count,on='host_id',how='left')\n",
    "\n",
    "    graph_data=df['binned_counts'].value_counts().sort('binned_counts')\n",
    "    total_sum=graph_data['count'].sum()\n",
    "    graph_data=graph_data.with_columns(((pl.col('count')/total_sum)*100).alias('percentage'))\n",
    "\n",
    "    return graph_data"
   ]
  },
  {
   "cell_type": "code",
   "execution_count": null,
   "id": "fbda2814-1dcf-4191-af75-637c68cdd0d3",
   "metadata": {},
   "outputs": [
    {
     "name": "stdout",
     "output_type": "stream",
     "text": [
      "Scanning started for ---> amsterdam\n"
     ]
    },
    {
     "name": "stderr",
     "output_type": "stream",
     "text": [
      "sys:1: CategoricalRemappingWarning: Local categoricals have different encodings, expensive re-encoding is done to perform this merge operation. Consider using a StringCache or an Enum type if the categories are known in advance\n"
     ]
    },
    {
     "name": "stdout",
     "output_type": "stream",
     "text": [
      "Scanning started for ---> athens\n",
      "Scanning started for ---> barcelona\n",
      "Scanning started for ---> copenhagen\n",
      "Scanning started for ---> crete\n",
      "Scanning started for ---> edinburgh\n",
      "Scanning started for ---> florence\n",
      "Scanning started for ---> lisbon\n",
      "Scanning started for ---> london\n",
      "Scanning started for ---> malaga\n"
     ]
    }
   ],
   "source": [
    "df_combined = pl.DataFrame({\n",
    "        \"binned_counts\": pl.Series(dtype=pl.Categorical),\n",
    "        \"count\": pl.Series(dtype=pl.UInt32),\n",
    "        \"percentage\": pl.Series(dtype=pl.Float64),\n",
    "        \"city\":pl.Series(dtype=pl.String)\n",
    "    })\n",
    "\n",
    "city_files =glob.glob(\"*.csv.gz\")\n",
    "\n",
    "for file in city_files:\n",
    "    file_name=os.path.basename(file)\n",
    "    city=file_name.split('_')[0]\n",
    "    print('Scanning started for --->',city)\n",
    "    \n",
    "    data=airbnb_per_host(file,'Entire rental unit',None)\n",
    "        \n",
    "    data=data.with_columns(pl.lit(city.capitalize()).alias(\"city\"))\n",
    "\n",
    "    df_combined = pl.concat([df_combined, data], how=\"vertical\")\n",
    "\n",
    "print('Finished scanning of ' +str(len(city_files)) +' cities')"
   ]
  },
  {
   "cell_type": "code",
   "execution_count": null,
   "id": "42a64671-c5aa-4903-960b-f3f4e9e0f94d",
   "metadata": {},
   "outputs": [],
   "source": [
    "df_combined = df_combined.with_columns(\n",
    "    pl.when((pl.col(\"binned_counts\") == \"1\") | (pl.col(\"binned_counts\")==\"2\"))\n",
    "    .then(pl.col(\"percentage\") * -1)\n",
    "    .otherwise(pl.col(\"percentage\")).alias(\"percentage\")\n",
    ")\n",
    "df_combined"
   ]
  },
  {
   "cell_type": "code",
   "execution_count": null,
   "id": "08c30e8a-2f9c-49d0-98c6-b4d20229257f",
   "metadata": {},
   "outputs": [],
   "source": [
    "left_count=[]\n",
    "right_count=[]\n",
    "left_x=[]\n",
    "right_x=[]\n",
    "list_city=df_combined['city'].unique()\n",
    "for city in list_city:\n",
    "    print(city)\n",
    "    left_count.append(abs(round(df_combined.filter((pl.col('city')==city)&\n",
    "                                         ((pl.col(\"binned_counts\") == \"1\") | (pl.col(\"binned_counts\")==\"2\")))['percentage'].sum())))\n",
    "    left_x.append(df_combined.filter((pl.col('city')==city)&\n",
    "                                         ((pl.col(\"binned_counts\") == \"1\") | (pl.col(\"binned_counts\")==\"2\")))['percentage'].sum()-2.5)\n",
    "    right_count.append(abs(round(df_combined.filter((pl.col('city')==city)&\n",
    "                                         ((pl.col(\"binned_counts\") != \"1\") & (pl.col(\"binned_counts\")!=\"2\")))['percentage'].sum())))\n",
    "    right_x.append(df_combined.filter((pl.col('city')==city)&\n",
    "                                         ((pl.col(\"binned_counts\") != \"1\") & (pl.col(\"binned_counts\")!=\"2\")))['percentage'].sum()+2.5)\n",
    "    \n",
    "\n",
    "graph_counts=pl.DataFrame(data={'left_text':left_count,'left_x':left_x,'right_text':right_count,'right_x':right_x,'city':list_city})\n",
    "graph_counts"
   ]
  },
  {
   "cell_type": "code",
   "execution_count": null,
   "id": "09f6541a-1f35-46d7-99b0-39360a3ed543",
   "metadata": {},
   "outputs": [],
   "source": [
    "annotations=[]\n",
    "for row in graph_counts.iter_rows():\n",
    "    left_text,right_text,left_x,right_x,city=row\n",
    "    annotations.append(dict(x=right_text, y=city, text=left_text,showarrow=False,font=dict(color=\"grey\",weight='bold')))\n",
    "    annotations.append(dict(x=right_x, y=city, text=left_x,showarrow=False,font=dict(color=\"grey\",weight='bold')))\n",
    "\n",
    "legend_annotation_text=[\"1\",\"2\",\"+2\",\"+5\",\"+10\",\"+100\"]\n",
    "legend_annotation_pos=[-16,-3,5,15,40,65]\n",
    "annotations_legend=[\n",
    "    dict(x=x, y=14.5, text=text, showarrow=True, ax=0, ay=-20,arrowhead=2,font=dict(color=palettecolor,weight='bold'))\n",
    "    for x, text,palettecolor in zip(legend_annotation_pos, legend_annotation_text,palette)\n",
    "]\n",
    "\n",
    "annotations.extend(annotations_legend)\n",
    "\n",
    "text_annotation=['Number of properties','Cities with strict Airbnb Regulations']\n",
    "text_annotation_xpos=[-40,-75]\n",
    "text_annotation_ypos=[15,5.75]\n",
    "annotations_text=[\n",
    "    dict(x=x,y=y,text=text,showarrow=False,font=dict(color=\"grey\",weight='bold'))\n",
    "    for x,y,text in zip(text_annotation_xpos,text_annotation_ypos,text_annotation)\n",
    "    \n",
    "]\n",
    "annotations.extend(annotations_text)\n",
    "\n",
    "subtitle_annotation=['Individual','Professional']\n",
    "subtitle_annotation_xpos=[-50,50]\n",
    "subtitle_annotation_ypos=[16,16]\n",
    "subtitle_colors=['#7ba591','#faa41b']\n",
    "annotations_subtitle=[\n",
    "    dict(x=x,y=y,text=text,showarrow=False,font=dict(color=color,size=16))\n",
    "    for x,y,text,color in zip(subtitle_annotation_xpos,subtitle_annotation_ypos,subtitle_annotation,subtitle_colors)\n",
    "    \n",
    "]\n",
    "annotations.extend(annotations_subtitle)"
   ]
  },
  {
   "cell_type": "code",
   "execution_count": null,
   "id": "81d4779f-4093-4604-81d7-e25453840af2",
   "metadata": {},
   "outputs": [],
   "source": [
    "city_order=graph_counts.sort('left_text')['city']\n",
    "palette=[\"#537c78\",\"#7ba591\",\"#cc222b\",\"#f15b4c\",\"#faa41b\",\"#ffd45b\"]"
   ]
  },
  {
   "cell_type": "code",
   "execution_count": null,
   "id": "d66fbc5c-d8bc-4d95-b51c-b70afeb30232",
   "metadata": {},
   "outputs": [],
   "source": [
    "fig = px.bar(df_combined, x=\"percentage\", y=\"city\", orientation='h',color='binned_counts',\n",
    "             color_discrete_sequence=palette,\n",
    "            category_orders={\"binned_counts\": [\"2\", \"1\", \"+2\",\"+5\",\"+10\",\"+100\"],'city':city_order})\n",
    "\n",
    "fig.update_layout(\n",
    "    height=700,\n",
    "    width=1100,\n",
    "    template='plotly_white',\n",
    "    annotations=annotations,\n",
    "    bargap=0.3,\n",
    "    margin_b=10,\n",
    "    margin_t=70,\n",
    "    xaxis_title=\"\",\n",
    "    yaxis_title=\"\",\n",
    "    title=dict(text=\"Who is your Airbnb host?<br><sup>% of airbnb listings in European cities owned by single/multiproperty hosts</sup>\",font=dict(size=30)),\n",
    "    font=dict(\n",
    "        family=\"Franklin Gothic\"),\n",
    "    legend=dict(\n",
    "        orientation='h',\n",
    "        x=0.5,\n",
    "        y=-0.085,\n",
    "        xanchor='center',\n",
    "        yanchor='bottom',\n",
    "        title=\"Number of properties per host\"\n",
    "    )\n",
    ")\n",
    "fig.update_xaxes(\n",
    "    tickvals=[-75,-50,-25,0,25,50,75,100],\n",
    "    ticktext=[\"75%\",\"50%\",\"25%\",\"0\",\"25%\",\"50%\",\"75%\",\"100%\"],\n",
    "    side='bottom',\n",
    "    griddash='dash')\n",
    "    \n",
    "fig.update_yaxes(anchor='free',shift=10,\n",
    "                tickfont=dict(size=18,weight='normal'))\n",
    "\n",
    "fig.add_shape(\n",
    "    type=\"line\",\n",
    "    x0=-95,  \n",
    "    x1=90, \n",
    "    y0=5.5,\n",
    "    y1=5.5, \n",
    "    line=dict(color=\"lightgrey\",width=2,dash='dot')  \n",
    ")\n",
    "\n",
    "fig.add_shape(\n",
    "    type=\"rect\",\n",
    "    x0=-95,\n",
    "    x1=90,\n",
    "    y0=-0.5,\n",
    "    y1=5.5,\n",
    "    fillcolor=\"rgba(211, 211, 211, 0.2)\",\n",
    "    line=dict(width=0)\n",
    ")\n",
    "\n",
    "fig.add_shape(\n",
    "    type=\"line\",\n",
    "    x0=0,  \n",
    "    x1=0, \n",
    "    y0=-0.5,\n",
    "    y1=15.25, \n",
    "    line=dict(color=\"grey\",width=2,dash='solid')  \n",
    ")\n",
    "\n",
    "fig.show()"
   ]
  }
 ],
 "metadata": {
  "kernelspec": {
   "display_name": "Python 3 (ipykernel)",
   "language": "python",
   "name": "python3"
  },
  "language_info": {
   "codemirror_mode": {
    "name": "ipython",
    "version": 3
   },
   "file_extension": ".py",
   "mimetype": "text/x-python",
   "name": "python",
   "nbconvert_exporter": "python",
   "pygments_lexer": "ipython3",
   "version": "3.12.4"
  }
 },
 "nbformat": 4,
 "nbformat_minor": 5
}
